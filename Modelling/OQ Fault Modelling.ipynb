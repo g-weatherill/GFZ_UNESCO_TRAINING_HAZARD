{
 "cells": [
  {
   "cell_type": "markdown",
   "metadata": {
    "deletable": true,
    "editable": true
   },
   "source": [
    "The aim of this workbook is to process a set of active faults, calculate the recurrence from slip and then build an OpenQuake source model"
   ]
  },
  {
   "cell_type": "code",
   "execution_count": null,
   "metadata": {
    "collapsed": false,
    "deletable": true,
    "editable": true
   },
   "outputs": [],
   "source": [
    " # -*- coding: utf-8 -*-\n",
    "%matplotlib inline\n",
    "\n",
    "# General Python imports\n",
    "from __future__ import unicode_literals\n",
    "import numpy as np\n",
    "import matplotlib.pyplot as plt\n",
    "\n",
    "# OpenQuake imports\n",
    "from openquake.hazardlib.geo import Point, Polygon, Line, SimpleFaultSurface\n",
    "from openquake.hazardlib.scalerel import WC1994\n",
    "from openquake.hazardlib.source import SimpleFaultSource\n",
    "from openquake.hazardlib.tom import PoissonTOM\n",
    "from openquake.hazardlib.sourcewriter import write_source_model\n",
    "\n",
    "# Some additional utilities to help this process\n",
    "import utilities as utils\n",
    "\n",
    "# Input Files\n",
    "fault_file = \"./data/East_Alpine_Faults.shp\"\n",
    "area_file = \"./data/East_Alpine_Areas.shp\"\n"
   ]
  },
  {
   "cell_type": "markdown",
   "metadata": {
    "deletable": true,
    "editable": true
   },
   "source": [
    "Here are some methods that illustrate how to calculate basic fault geometry properties"
   ]
  },
  {
   "cell_type": "code",
   "execution_count": null,
   "metadata": {
    "collapsed": true,
    "deletable": true,
    "editable": true
   },
   "outputs": [],
   "source": [
    "def get_dimensions(fault):\n",
    "    \"\"\"\n",
    "    Get the dimensions (length, width and area) of the fault\n",
    "    taking into account the upper and lower dip estimates\n",
    "    \"\"\"\n",
    "    # Calculate Length\n",
    "    length = fault[\"trace\"].get_length()\n",
    "    # Get seismogenic thickness of fault\n",
    "    d_z = fault[\"LSD\"] - fault[\"USD\"]\n",
    "    # Calculate width\n",
    "    width_l = d_z / np.sin(np.radians(fault[\"dip\"][1]))\n",
    "    width_u = d_z / np.sin(np.radians(fault[\"dip\"][0]))\n",
    "    # Calculate area\n",
    "    area_l = length * width_l\n",
    "    area_u = length * width_u\n",
    "    return length, width_l, width_u, area_l, area_u\n",
    "\n",
    "def get_moment(fault, mu=3.0E10):\n",
    "    \"\"\"\n",
    "    Calculate the moment rate and areas of the fault for all the\n",
    "    possible combinations of dip and area\n",
    "    \"\"\"\n",
    "    # Get the dimensions\n",
    "    length, width_l, width_u, area_l, area_u = get_dimensions(fault)\n",
    "    # Produces 4 possible moment estimates:\n",
    "    # 1 - low area, low slip\n",
    "    mo_1 = mu * (area_l * 1.0E6) * (fault[\"slip\"][0] * 1.0E-3)\n",
    "    # 2 - low area, high slip\n",
    "    mo_2 = mu * (area_l * 1.0E6) * (fault[\"slip\"][1] * 1.0E-3)\n",
    "    # 3 - high area, low slip\n",
    "    mo_3 = mu * (area_u * 1.0E6) * (fault[\"slip\"][0] * 1.0E-3)\n",
    "    # 4 - high area, high slip\n",
    "    mo_4 = mu * (area_u * 1.0E6) * (fault[\"slip\"][1] * 1.0E-3)\n",
    "    return [mo_1, mo_2, mo_3, mo_4], [area_l, area_l, area_u, area_u]\n",
    "\n",
    "def get_mchar(fault, msr=WC1994()):\n",
    "    \"\"\"\n",
    "    Get the characteristic (or Mmax) magnitude given the\n",
    "    area (and dip options)\n",
    "    \"\"\"\n",
    "    # Get the two area estimates\n",
    "    _, _, _, area_l, area_u = get_dimensions(fault)\n",
    "    # Get the average rake\n",
    "    rake_l, rake_u = fault[\"rake\"]\n",
    "    rake = ((rake_l + rake_u) / 2.)\n",
    "    if rake > 180:\n",
    "        # Check if rake is outside the -180 - 180 range\n",
    "        rake -= 360.0\n",
    "    return msr.get_median_mag(area_l, rake),\\\n",
    "        msr.get_median_mag(area_u, rake)\n",
    "\n",
    "def get_mean_dimensions(fault, msr=WC1994()):\n",
    "    \"\"\"\n",
    "    Returns dimensions of the mean fault surface\n",
    "    \"\"\"\n",
    "    # Arithmetic mean fault dip\n",
    "    mean_dip = (fault[\"dip\"][0] + fault[\"dip\"][1]) / 2.0\n",
    "    # Corresponding length, width and area\n",
    "    length = fault[\"trace\"].get_length()\n",
    "    d_z = fault[\"LSD\"] - fault[\"USD\"]\n",
    "    width = d_z / np.sin(np.radians(mean_dip))\n",
    "    area = length * width\n",
    "    # Get the average rake\n",
    "    rake_l, rake_u = fault[\"rake\"]\n",
    "    rake = ((rake_l + rake_u) / 2.)\n",
    "    if rake > 180:\n",
    "        rake -= 360.0\n",
    "    # Get Mmax\n",
    "    mmax = msr.get_median_mag(area, rake)\n",
    "    # Build surface\n",
    "    surface = SimpleFaultSurface.from_fault_data(fault[\"trace\"],\n",
    "                                                 fault[\"USD\"],\n",
    "                                                 fault[\"LSD\"],\n",
    "                                                 mean_dip,\n",
    "                                                 mesh_spacing=1.0)\n",
    "    return area, rake, mean_dip, mmax, surface\n",
    "\n",
    "\n",
    "def plot_activity_rates(mags, cum_rates, incr_rates, xlims=(0, 9), title=\"\"):\n",
    "    \"\"\"\n",
    "    Create a bar plot showing the incremental and cumulative rates\n",
    "    \"\"\"\n",
    "    plt.figure(figsize=(12,9))\n",
    "    plt.bar(mags, cum_rates, 0.1, facecolor=\"r\", edgecolor=\"w\",log=True, label=\"Cumulative\")\n",
    "    plt.bar(mags, incr_rates, 0.1, facecolor=\"b\", edgecolor=\"b\",log=True, alpha=0.5, label=\"Incremental\")\n",
    "    plt.xlabel(\"Mw\", fontsize=16)\n",
    "    plt.ylabel(\"Rate\", fontsize=16)\n",
    "    plt.xlim(xlims[0], xlims[1])\n",
    "    plt.grid()\n",
    "    plt.legend(fontsize=16)\n",
    "    if title:\n",
    "        plt.title(title, fontsize=18)"
   ]
  },
  {
   "cell_type": "markdown",
   "metadata": {
    "deletable": true,
    "editable": true
   },
   "source": [
    "### Load in the Fault Data"
   ]
  },
  {
   "cell_type": "code",
   "execution_count": null,
   "metadata": {
    "collapsed": false,
    "deletable": true,
    "editable": true
   },
   "outputs": [],
   "source": [
    "# Load in the faults from a shapefile (use a utility function for this)\n",
    "faults = utils.fault_shapefile_to_dictionary(fault_file)\n",
    "\n",
    "for i, flt in enumerate(faults):\n",
    "    print \"===========================================\"\n",
    "    print \"===      %s     ====\" % str(i)\n",
    "    print \"===========================================\"\n",
    "    for key in flt:\n",
    "        print key, flt[key]\n",
    "   "
   ]
  },
  {
   "cell_type": "markdown",
   "metadata": {
    "deletable": true,
    "editable": true
   },
   "source": [
    "### Calculating & Viewing Different Recurrence Models"
   ]
  },
  {
   "cell_type": "markdown",
   "metadata": {
    "deletable": true,
    "editable": true
   },
   "source": [
    "##### Exponential"
   ]
  },
  {
   "cell_type": "code",
   "execution_count": null,
   "metadata": {
    "collapsed": false,
    "deletable": true,
    "editable": true
   },
   "outputs": [],
   "source": [
    "# Get the basic dimensions\n",
    "_, _, _, area_u, area_l = get_dimensions(faults[4])\n",
    "mmax_l, mmax_u = get_mchar(faults[4])\n",
    "# Setup the confiration\n",
    "config = {\n",
    "    \"model\": \"Exponential\",\n",
    "    \"MFD_spacing\": 0.1,\n",
    "    \"Minimum_Magnitude\": 4.5,\n",
    "    \"b_value\": [1.0, 0.1]\n",
    "}\n",
    "\n",
    "# Calculate the activity rates\n",
    "mags, incr_rates, cum_rates, mf_dist = utils.build_fault_model(area_u, faults[4][\"slip\"][1], mmax_u, config)\n",
    "# Build the plot\n",
    "plot_activity_rates(mags, cum_rates, incr_rates, xlims=(4.5, 8.0))\n"
   ]
  },
  {
   "cell_type": "markdown",
   "metadata": {
    "deletable": true,
    "editable": true
   },
   "source": [
    "##### Hybrid"
   ]
  },
  {
   "cell_type": "code",
   "execution_count": null,
   "metadata": {
    "collapsed": false,
    "deletable": true,
    "editable": true
   },
   "outputs": [],
   "source": [
    "_, _, _, area_u, area_l = get_dimensions(faults[4])\n",
    "mmax_l, mmax_u = get_mchar(faults[4])\n",
    "config = {\n",
    "    \"model\": \"Hybrid\",\n",
    "    \"MFD_spacing\": 0.1,\n",
    "    \"Minimum_Magnitude\": 4.5,\n",
    "    \"b_value\": [1.0, 0.1]\n",
    "}\n",
    "mags, incr_rates, cum_rates, mf_dist = utils.build_fault_model(area_u, faults[4][\"slip\"][1], mmax_u, config)\n",
    "plot_activity_rates(mags, cum_rates, incr_rates, xlims=(4.5, 8.0))"
   ]
  },
  {
   "cell_type": "markdown",
   "metadata": {
    "deletable": true,
    "editable": true
   },
   "source": [
    "##### Characteristic "
   ]
  },
  {
   "cell_type": "code",
   "execution_count": null,
   "metadata": {
    "collapsed": false,
    "deletable": true,
    "editable": true
   },
   "outputs": [],
   "source": [
    "_, _, _, area_u, area_l = get_dimensions(faults[4])\n",
    "mmax_l, mmax_u = get_mchar(faults[4])\n",
    "config = {\n",
    "    \"model\": \"Characteristic\",\n",
    "    \"MFD_spacing\": 0.1,\n",
    "    \"Sigma\": 0.1,\n",
    "    \"Lower_Bound\": -3.0,\n",
    "    \"Upper_Bound\": 3.0\n",
    "}\n",
    "\n",
    "mags, incr_rates, cum_rates, mf_dist = utils.build_fault_model(area_u, faults[4][\"slip\"][1], mmax_u, config)\n",
    "\n",
    "plot_activity_rates(mags, cum_rates, incr_rates, xlims=(4.5, 8.0))"
   ]
  },
  {
   "cell_type": "markdown",
   "metadata": {
    "deletable": true,
    "editable": true
   },
   "source": [
    "### Build a Fault Source Model"
   ]
  },
  {
   "cell_type": "code",
   "execution_count": null,
   "metadata": {
    "collapsed": true,
    "deletable": true,
    "editable": true
   },
   "outputs": [],
   "source": [
    "def build_OQ_sources(faults, config, msr=WC1994()):\n",
    "    \"\"\"\n",
    "    Builds the OpenQuake Source Model - simple logic tree: mean dip, mean area, geometric mean slip\n",
    "    \"\"\"\n",
    "    sources = []\n",
    "    for fault in faults:\n",
    "        # Get the mean dimensions\n",
    "        area, rake, dip, mmax, surface = get_mean_dimensions(fault, msr)\n",
    "        # Get geometric mean slip\n",
    "        slip = np.sqrt(fault[\"slip\"][0] * fault[\"slip\"][1])\n",
    "        # Get the mfd\n",
    "        mags, rates, cumulative_rates, fault_mfd = utils.build_fault_model(area, slip, mmax, config)\n",
    "        # Plot the rates\n",
    "        plot_activity_rates(mags, cumulative_rates, rates, xlims=(4.5, 8.0), title=fault[\"ID\"])\n",
    "        # Build the OpenQuake Source\n",
    "        source = SimpleFaultSource(fault[\"ID\"], fault[\"name\"], \"Active Shallow Crust\",\n",
    "                                   fault_mfd, 1.0, msr, 1.0, PoissonTOM(1.0), fault[\"USD\"],\n",
    "                                   fault[\"LSD\"], fault[\"trace\"], dip, rake)\n",
    "        sources.append(source)\n",
    "    return sources\n",
    "        "
   ]
  },
  {
   "cell_type": "markdown",
   "metadata": {
    "deletable": true,
    "editable": true
   },
   "source": [
    "Build the faults assuming a hybrid model on all"
   ]
  },
  {
   "cell_type": "code",
   "execution_count": null,
   "metadata": {
    "collapsed": false,
    "deletable": true,
    "editable": true,
    "scrolled": true
   },
   "outputs": [],
   "source": [
    "config = {\n",
    "    \"model\": \"Hybrid\",\n",
    "    \"MFD_spacing\": 0.1,\n",
    "    \"Minimum_Magnitude\": 4.5,\n",
    "    \"b_value\": [1.0, 0.1]\n",
    "}\n",
    "sources = build_OQ_sources(faults, config, msr=WC1994())"
   ]
  },
  {
   "cell_type": "markdown",
   "metadata": {
    "deletable": true,
    "editable": true
   },
   "source": [
    "Export the source model to an xml file"
   ]
  },
  {
   "cell_type": "code",
   "execution_count": null,
   "metadata": {
    "collapsed": false,
    "deletable": true,
    "editable": true
   },
   "outputs": [],
   "source": [
    "write_source_model(\"East_Alpine_Faults.xml\", sources, name=\"East Alpine Fault Source Model\")"
   ]
  }
 ],
 "metadata": {
  "kernelspec": {
   "display_name": "Python 2",
   "language": "python",
   "name": "python2"
  },
  "language_info": {
   "codemirror_mode": {
    "name": "ipython",
    "version": 2
   },
   "file_extension": ".py",
   "mimetype": "text/x-python",
   "name": "python",
   "nbconvert_exporter": "python",
   "pygments_lexer": "ipython2",
   "version": "2.7.12"
  }
 },
 "nbformat": 4,
 "nbformat_minor": 0
}
